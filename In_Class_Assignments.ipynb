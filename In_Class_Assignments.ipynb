{
  "nbformat": 4,
  "nbformat_minor": 0,
  "metadata": {
    "colab": {
      "provenance": [],
      "authorship_tag": "ABX9TyPxxSHSWSQVRZ7KquJw0UhC",
      "include_colab_link": true
    },
    "kernelspec": {
      "name": "python3",
      "display_name": "Python 3"
    },
    "language_info": {
      "name": "python"
    }
  },
  "cells": [
    {
      "cell_type": "markdown",
      "metadata": {
        "id": "view-in-github",
        "colab_type": "text"
      },
      "source": [
        "<a href=\"https://colab.research.google.com/github/haleycasey17/BTE320/blob/main/In_Class_Assignments.ipynb\" target=\"_parent\"><img src=\"https://colab.research.google.com/assets/colab-badge.svg\" alt=\"Open In Colab\"/></a>"
      ]
    },
    {
      "cell_type": "code",
      "execution_count": 1,
      "metadata": {
        "colab": {
          "base_uri": "https://localhost:8080/"
        },
        "id": "za5o9TYJ2zxA",
        "outputId": "0ee72877-9af1-4c1b-f8b0-e6f1dee6f4f4"
      },
      "outputs": [
        {
          "output_type": "stream",
          "name": "stdout",
          "text": [
            "Height: 2\n",
            "Radius: 2\n",
            "The surface area of the cylinder is  50.24 sq. ft.\n"
          ]
        }
      ],
      "source": [
        "h = float(input(\"Height: \"))\n",
        "r = float(input(\"Radius: \"))\n",
        "area = (2*3.14*(r**2))+(2*3.14*r*h)\n",
        "print(\"The surface area of the cylinder is \", area,\"sq. ft.\")"
      ]
    },
    {
      "cell_type": "code",
      "source": [],
      "metadata": {
        "id": "Gl8HNTntPFih"
      },
      "execution_count": null,
      "outputs": []
    }
  ]
}