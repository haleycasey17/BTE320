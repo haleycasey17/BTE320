{
  "nbformat": 4,
  "nbformat_minor": 0,
  "metadata": {
    "colab": {
      "provenance": [],
      "authorship_tag": "ABX9TyPIi/gy+IFGXBS+h9lvK0KM",
      "include_colab_link": true
    },
    "kernelspec": {
      "name": "python3",
      "display_name": "Python 3"
    },
    "language_info": {
      "name": "python"
    }
  },
  "cells": [
    {
      "cell_type": "markdown",
      "metadata": {
        "id": "view-in-github",
        "colab_type": "text"
      },
      "source": [
        "<a href=\"https://colab.research.google.com/github/haleycasey17/BTE320/blob/main/In_Class_Assignments.ipynb\" target=\"_parent\"><img src=\"https://colab.research.google.com/assets/colab-badge.svg\" alt=\"Open In Colab\"/></a>"
      ]
    },
    {
      "cell_type": "markdown",
      "source": [
        "Cylinder Area Calculator"
      ],
      "metadata": {
        "id": "FUiaV7_IhOAy"
      }
    },
    {
      "cell_type": "code",
      "execution_count": null,
      "metadata": {
        "colab": {
          "base_uri": "https://localhost:8080/"
        },
        "id": "za5o9TYJ2zxA",
        "outputId": "0ee72877-9af1-4c1b-f8b0-e6f1dee6f4f4"
      },
      "outputs": [
        {
          "output_type": "stream",
          "name": "stdout",
          "text": [
            "Height: 2\n",
            "Radius: 2\n",
            "The surface area of the cylinder is  50.24 sq. ft.\n"
          ]
        }
      ],
      "source": [
        "h = float(input(\"Height: \"))\n",
        "r = float(input(\"Radius: \"))\n",
        "area = (2*3.14*(r**2))+(2*3.14*r*h)\n",
        "print(\"The surface area of the cylinder is \", area,\"sq. ft.\")"
      ]
    },
    {
      "cell_type": "markdown",
      "source": [
        "Numerical Calculator"
      ],
      "metadata": {
        "id": "_VxFoTodhGW_"
      }
    },
    {
      "cell_type": "code",
      "source": [
        "from types import resolve_bases\n",
        "n1 = float(input('Enter n1: '))\n",
        "n2 = float(input('Enter n2: '))\n",
        "op = input('Enter op: ')\n",
        "\n",
        "if op == '+':\n",
        "  res = (n1 + n2)\n",
        "elif op == '-':\n",
        "  res = (n1 - n2)\n",
        "elif op == '*':\n",
        "  res = (n1 * n2)\n",
        "elif op == '/':\n",
        "  res = (n1 / n2)\n",
        "elif op == '//':\n",
        "  res = (n1 // n2)\n",
        "elif op == '%':\n",
        "  res = (n1 % n2)\n",
        "elif op == '**':\n",
        "  res = (n1 ** n2)\n",
        "else:\n",
        "  res = ('Invalid operator')\n",
        "\n",
        "print(f'{n1} {op} {n2} = {res}')"
      ],
      "metadata": {
        "colab": {
          "base_uri": "https://localhost:8080/"
        },
        "id": "Y0GaArHGr5-G",
        "outputId": "a659a033-9753-41b2-97b1-fa09b794fe7e"
      },
      "execution_count": 1,
      "outputs": [
        {
          "output_type": "stream",
          "name": "stdout",
          "text": [
            "Enter n1: 5\n",
            "Enter n2: 6\n",
            "Enter op: +\n",
            "5.0 + 6.0 = 11.0\n"
          ]
        }
      ]
    },
    {
      "cell_type": "markdown",
      "source": [
        "Movie Theater"
      ],
      "metadata": {
        "id": "Ry-A5S_bhbZy"
      }
    },
    {
      "cell_type": "code",
      "source": [
        "print('Ad$\\t', 'Profit')\n",
        "for adMoney in range (0, 201, 25):\n",
        "  revenue = (20 + 2 * round(adMoney ** 0.5)) * 10\n",
        "  costs = 200 + adMoney\n",
        "  profit = revenue - costs\n",
        "  print(adMoney, '\\t', profit)"
      ],
      "metadata": {
        "colab": {
          "base_uri": "https://localhost:8080/"
        },
        "id": "gZj5PSbk3_YU",
        "outputId": "0fdd63f4-0b47-4e46-9fd6-9f2a590451e7"
      },
      "execution_count": 4,
      "outputs": [
        {
          "output_type": "stream",
          "name": "stdout",
          "text": [
            "Ad$\t Profit\n",
            "0 \t 0\n",
            "25 \t 75\n",
            "50 \t 90\n",
            "75 \t 105\n",
            "100 \t 100\n",
            "125 \t 95\n",
            "150 \t 90\n",
            "175 \t 85\n",
            "200 \t 80\n"
          ]
        }
      ]
    },
    {
      "cell_type": "markdown",
      "source": [
        "Rock Paper Scissors Game"
      ],
      "metadata": {
        "id": "QnJhcnE0hCAw"
      }
    },
    {
      "cell_type": "code",
      "source": [
        "import random\n",
        "\n",
        "game = input('Do you want to play the game (Yes/No): ').capitalize()\n",
        "\n",
        "while game == 'Yes':\n",
        "\n",
        "  player1 = input('Player 1 - Enter Rock, Paper, or Scissors: ').capitalize()\n",
        "  player2 = random.choice(['Rock', 'Paper', 'Scissors']).capitalize()\n",
        "\n",
        "  print(f'Player chose {player1}; Computer chose {player2}')\n",
        "\n",
        "  if player1 == player2:\n",
        "    print('Draw')\n",
        "  elif ((player1 == 'Rock' and player2 == 'Scissors') or\n",
        "        (player1 == 'Scissors' and player2 == 'Paper') or\n",
        "        (player1 == 'Paper' and player2 == 'Rock')):\n",
        "    print('Player 1 wins!')\n",
        "  else:\n",
        "    print('Player 2 wins!')\n",
        "\n",
        "  game = input('Do you want to play the game (Yes/No): ').capitalize()\n",
        "print('Good day...')\n",
        "\n",
        ""
      ],
      "metadata": {
        "colab": {
          "base_uri": "https://localhost:8080/"
        },
        "id": "48cqZ3aL-Mpd",
        "outputId": "d21edb73-188f-4bb0-f544-934dd645c60f"
      },
      "execution_count": 21,
      "outputs": [
        {
          "output_type": "stream",
          "name": "stdout",
          "text": [
            "Do you want to play the game (Yes/No): yes\n",
            "Player 1 - Enter Rock, Paper, or Scissors: rock\n",
            "Player chose Rock; Computer chose Scissors\n",
            "Player 1 wins!\n",
            "Do you want to play the game (Yes/No): yes\n",
            "Player 1 - Enter Rock, Paper, or Scissors: paper\n",
            "Player chose Paper; Computer chose Rock\n",
            "Player 1 wins!\n",
            "Do you want to play the game (Yes/No): no\n",
            "Good day...\n"
          ]
        }
      ]
    },
    {
      "cell_type": "markdown",
      "source": [
        "Given an empty list, design a program in Python that populates the list by repeatedly asking the user for numerical inputs. The process stops when the user gives 0. Finally the list should be displayed in descending order."
      ],
      "metadata": {
        "id": "OW3-Io6JdJ3G"
      }
    },
    {
      "cell_type": "code",
      "source": [
        "L = []\n",
        "n = float(input('Enter a number: '))\n",
        "\n",
        "while n != 0.0:\n",
        "  L.append(n)\n",
        "  n = float(input('Enter a number: '))\n",
        "\n",
        "L.sort(reverse=True)\n",
        "L"
      ],
      "metadata": {
        "colab": {
          "base_uri": "https://localhost:8080/"
        },
        "id": "8Pv0rUYTdH15",
        "outputId": "2581e4a5-7081-4cc3-c31e-a155ebdab256"
      },
      "execution_count": 19,
      "outputs": [
        {
          "name": "stdout",
          "output_type": "stream",
          "text": [
            "Enter a number: 1\n",
            "Enter a number: 8\n",
            "Enter a number: 4\n",
            "Enter a number: 6\n",
            "Enter a number: 0\n"
          ]
        },
        {
          "output_type": "execute_result",
          "data": {
            "text/plain": [
              "[8.0, 6.0, 4.0, 1.0]"
            ]
          },
          "metadata": {},
          "execution_count": 19
        }
      ]
    }
  ]
}