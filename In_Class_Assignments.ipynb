{
  "nbformat": 4,
  "nbformat_minor": 0,
  "metadata": {
    "colab": {
      "provenance": [],
      "authorship_tag": "ABX9TyO0YuU9Iqj1ZrJlyF+jecsb",
      "include_colab_link": true
    },
    "kernelspec": {
      "name": "python3",
      "display_name": "Python 3"
    },
    "language_info": {
      "name": "python"
    }
  },
  "cells": [
    {
      "cell_type": "markdown",
      "metadata": {
        "id": "view-in-github",
        "colab_type": "text"
      },
      "source": [
        "<a href=\"https://colab.research.google.com/github/haleycasey17/BTE320/blob/main/In_Class_Assignments.ipynb\" target=\"_parent\"><img src=\"https://colab.research.google.com/assets/colab-badge.svg\" alt=\"Open In Colab\"/></a>"
      ]
    },
    {
      "cell_type": "code",
      "execution_count": null,
      "metadata": {
        "colab": {
          "base_uri": "https://localhost:8080/"
        },
        "id": "za5o9TYJ2zxA",
        "outputId": "0ee72877-9af1-4c1b-f8b0-e6f1dee6f4f4"
      },
      "outputs": [
        {
          "output_type": "stream",
          "name": "stdout",
          "text": [
            "Height: 2\n",
            "Radius: 2\n",
            "The surface area of the cylinder is  50.24 sq. ft.\n"
          ]
        }
      ],
      "source": [
        "h = float(input(\"Height: \"))\n",
        "r = float(input(\"Radius: \"))\n",
        "area = (2*3.14*(r**2))+(2*3.14*r*h)\n",
        "print(\"The surface area of the cylinder is \", area,\"sq. ft.\")"
      ]
    },
    {
      "cell_type": "code",
      "source": [
        "from types import resolve_bases\n",
        "n1 = float(input('Enter n1: '))\n",
        "n2 = float(input('Enter n2: '))\n",
        "op = input('Enter op: ')\n",
        "\n",
        "if op == '+':\n",
        "  res = (n1 + n2)\n",
        "elif op == '-':\n",
        "  res = (n1 - n2)\n",
        "elif op == '*':\n",
        "  res = (n1 * n2)\n",
        "elif op == '/':\n",
        "  res = (n1 / n2)\n",
        "elif op == '//':\n",
        "  res = (n1 // n2)\n",
        "elif op == '%':\n",
        "  res = (n1 % n2)\n",
        "elif op == '**':\n",
        "  res = (n1 ** n2)\n",
        "else:\n",
        "  res = ('Invalid operator')\n",
        "\n",
        "print(f'{n1} {op} {n2} = {res}')"
      ],
      "metadata": {
        "colab": {
          "base_uri": "https://localhost:8080/"
        },
        "id": "Y0GaArHGr5-G",
        "outputId": "a659a033-9753-41b2-97b1-fa09b794fe7e"
      },
      "execution_count": 1,
      "outputs": [
        {
          "output_type": "stream",
          "name": "stdout",
          "text": [
            "Enter n1: 5\n",
            "Enter n2: 6\n",
            "Enter op: +\n",
            "5.0 + 6.0 = 11.0\n"
          ]
        }
      ]
    },
    {
      "cell_type": "code",
      "source": [
        "print('Ad$\\t', 'Profit')\n",
        "for adMoney in range (0, 201, 25):\n",
        "  revenue = (20 + 2 * round(adMoney ** 0.5)) * 10\n",
        "  costs = 200 + adMoney\n",
        "  profit = revenue - costs\n",
        "  print(adMoney, '\\t', profit)"
      ],
      "metadata": {
        "colab": {
          "base_uri": "https://localhost:8080/"
        },
        "id": "gZj5PSbk3_YU",
        "outputId": "620caf33-265e-4378-b4f5-a26c55854d75"
      },
      "execution_count": 2,
      "outputs": [
        {
          "output_type": "stream",
          "name": "stdout",
          "text": [
            "Ad$\t Profit\n",
            "0 \t 0\n",
            "25 \t 75\n",
            "50 \t 90\n",
            "75 \t 105\n",
            "100 \t 100\n",
            "125 \t 95\n",
            "150 \t 90\n",
            "175 \t 85\n",
            "200 \t 80\n"
          ]
        }
      ]
    }
  ]
}