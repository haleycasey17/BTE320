{
  "nbformat": 4,
  "nbformat_minor": 0,
  "metadata": {
    "colab": {
      "provenance": [],
      "toc_visible": true,
      "authorship_tag": "ABX9TyNJMV5kwIgG0w6yx15YsEzt",
      "include_colab_link": true
    },
    "kernelspec": {
      "name": "python3",
      "display_name": "Python 3"
    },
    "language_info": {
      "name": "python"
    }
  },
  "cells": [
    {
      "cell_type": "markdown",
      "metadata": {
        "id": "view-in-github",
        "colab_type": "text"
      },
      "source": [
        "<a href=\"https://colab.research.google.com/github/haleycasey17/BTE320/blob/main/Lectures.ipynb\" target=\"_parent\"><img src=\"https://colab.research.google.com/assets/colab-badge.svg\" alt=\"Open In Colab\"/></a>"
      ]
    },
    {
      "cell_type": "markdown",
      "source": [
        "LECTURE 2\n",
        "AREA/INPUT"
      ],
      "metadata": {
        "id": "srLwZ-vwaKck"
      }
    },
    {
      "cell_type": "code",
      "execution_count": null,
      "metadata": {
        "colab": {
          "base_uri": "https://localhost:8080/"
        },
        "id": "mZIUdRSrf2Dq",
        "outputId": "f20db761-1335-4db4-bba9-f98b3eea532a"
      },
      "outputs": [
        {
          "output_type": "stream",
          "name": "stdout",
          "text": [
            "Area = 25 sq ft\n",
            "Goodbye!\n"
          ]
        }
      ],
      "source": [
        "# Calculate and display area of square\n",
        "side = 5 # Set value for side\n",
        "area = side ** 2 # Calculate area\n",
        "print(\"Area =\", area, \"sq ft\") # Display area\n",
        "print(\"Goodbye!\")"
      ]
    },
    {
      "cell_type": "code",
      "source": [
        "print(\"Area =\", area, \"sq. ft\", end=\"---\")\n",
        "print(\"Goodbye!\")"
      ],
      "metadata": {
        "colab": {
          "base_uri": "https://localhost:8080/"
        },
        "id": "-9h7IHV1kukp",
        "outputId": "38af2431-e391-4cfa-83bb-58a754ab8ca1"
      },
      "execution_count": null,
      "outputs": [
        {
          "output_type": "stream",
          "name": "stdout",
          "text": [
            "Area = 25 sq. ft---Goodbye!\n"
          ]
        }
      ]
    },
    {
      "cell_type": "code",
      "source": [
        "print(\"Area =\", area, \"sq. ft\", sep=\"\")\n",
        "print(\"Goodbye!\")"
      ],
      "metadata": {
        "colab": {
          "base_uri": "https://localhost:8080/"
        },
        "id": "HRolmr3qk72a",
        "outputId": "78d6f17f-d250-4c8b-9833-a2617c6bf024"
      },
      "execution_count": null,
      "outputs": [
        {
          "output_type": "stream",
          "name": "stdout",
          "text": [
            "Area =25sq. ft\n",
            "Goodbye!\n"
          ]
        }
      ]
    },
    {
      "cell_type": "code",
      "source": [
        "print(\"Area = {} sq. ft\".format(area))"
      ],
      "metadata": {
        "colab": {
          "base_uri": "https://localhost:8080/"
        },
        "id": "zQ830iiunERR",
        "outputId": "b9d41b41-3467-4628-8b00-bf842607cba9"
      },
      "execution_count": null,
      "outputs": [
        {
          "output_type": "stream",
          "name": "stdout",
          "text": [
            "Area = 25 sq. ft\n"
          ]
        }
      ]
    },
    {
      "cell_type": "code",
      "source": [
        "print(f\"Area = {area} sq. ft\")"
      ],
      "metadata": {
        "colab": {
          "base_uri": "https://localhost:8080/"
        },
        "id": "LNS9-zz0oSQc",
        "outputId": "03afb1b2-0061-4b40-d175-89472ae9c918"
      },
      "execution_count": null,
      "outputs": [
        {
          "output_type": "stream",
          "name": "stdout",
          "text": [
            "Area = 25 sq. ft\n"
          ]
        }
      ]
    },
    {
      "cell_type": "code",
      "source": [
        "name = input(\"Please provide your name: \")\n",
        "print('Hi', name)\n",
        "type(name)"
      ],
      "metadata": {
        "colab": {
          "base_uri": "https://localhost:8080/"
        },
        "id": "UCjOE3rtzvQ5",
        "outputId": "31c8a2d0-b59e-491f-d778-2d292d7b04fc"
      },
      "execution_count": null,
      "outputs": [
        {
          "output_type": "stream",
          "name": "stdout",
          "text": [
            "Please provide your name: Bob\n",
            "Hi Bob\n"
          ]
        },
        {
          "output_type": "execute_result",
          "data": {
            "text/plain": [
              "str"
            ]
          },
          "metadata": {},
          "execution_count": 2
        }
      ]
    },
    {
      "cell_type": "code",
      "source": [
        "age = int(input(\"Please provide your age: \"))\n",
        "print(age + 10)\n",
        "type(age)"
      ],
      "metadata": {
        "colab": {
          "base_uri": "https://localhost:8080/"
        },
        "id": "G04xLGxO0r4B",
        "outputId": "27eb04aa-ae6c-495b-976d-2d42c728f3ca"
      },
      "execution_count": null,
      "outputs": [
        {
          "output_type": "stream",
          "name": "stdout",
          "text": [
            "Please provide your age: 19\n",
            "29\n"
          ]
        },
        {
          "output_type": "execute_result",
          "data": {
            "text/plain": [
              "int"
            ]
          },
          "metadata": {},
          "execution_count": 5
        }
      ]
    },
    {
      "cell_type": "markdown",
      "source": [
        "# If Condition\n"
      ],
      "metadata": {
        "id": "gMVDivzlU4bL"
      }
    },
    {
      "cell_type": "code",
      "source": [
        "if condition:\n",
        "  expr\n",
        "  expr"
      ],
      "metadata": {
        "id": "0xPUGx-2U5no"
      },
      "execution_count": null,
      "outputs": []
    },
    {
      "cell_type": "code",
      "source": [
        "fico = int(input('Please provide your FICO score: '))\n",
        "\n",
        "if fico >= 700:\n",
        "  print('Loan granted!')\n",
        "else:\n",
        "  print('Loan denied!')"
      ],
      "metadata": {
        "colab": {
          "base_uri": "https://localhost:8080/"
        },
        "id": "2RaDKaJIWDnH",
        "outputId": "273eae93-3e63-47dd-f777-df52a401bbd3"
      },
      "execution_count": null,
      "outputs": [
        {
          "output_type": "stream",
          "name": "stdout",
          "text": [
            "Please provide your FICO score: 500\n",
            "Loan denied!\n"
          ]
        }
      ]
    },
    {
      "cell_type": "code",
      "source": [
        "fico = int(input('Please provide your FICO score: '))\n",
        "\n",
        "if fico >= 700:\n",
        "  print('Loan granted!')\n",
        "elif fico < 700:\n",
        "  print('Loan denied!')"
      ],
      "metadata": {
        "colab": {
          "base_uri": "https://localhost:8080/"
        },
        "id": "Tl2fJQjpZBdf",
        "outputId": "98795eae-37db-4e06-c6d0-349b66bea871"
      },
      "execution_count": null,
      "outputs": [
        {
          "output_type": "stream",
          "name": "stdout",
          "text": [
            "Please provide your FICO score: 17\n",
            "Loan denied!\n"
          ]
        }
      ]
    },
    {
      "cell_type": "code",
      "source": [
        "num = float(input('Please enter your number grade (0-100): '))\n",
        "\n",
        "if num >= 97:\n",
        "  print('A+')\n",
        "elif num >= 93:\n",
        "  print('A')\n",
        "elif num >= 90:\n",
        "  print('A-')\n",
        "elif num >= 87:\n",
        "  print('B+')\n",
        "elif num >= 83:\n",
        "  print('B')\n",
        "elif num >= 80:\n",
        "  print('B-')"
      ],
      "metadata": {
        "colab": {
          "base_uri": "https://localhost:8080/"
        },
        "id": "HbkKkLIOkSQK",
        "outputId": "3b35deb1-3617-4fc7-9ed5-df67a20215fe"
      },
      "execution_count": null,
      "outputs": [
        {
          "output_type": "stream",
          "name": "stdout",
          "text": [
            "Please enter your number grade (0-100): 87\n",
            "B+\n"
          ]
        }
      ]
    },
    {
      "cell_type": "code",
      "source": [
        "customer_type = input('Please provide your customer type (N: new/E: existing): ')\n",
        "deposit = float(input('Please provide your deposit amount ($): '))\n",
        "\n",
        "if customer_type == \"E\":\n",
        "  if deposit >= 10_000:\n",
        "    ir = 3.5 # % value\n",
        "  elif deposit >= 1_000:\n",
        "    ir = 3.25\n",
        "  else:\n",
        "    ir = 3.0\n",
        "else:\n",
        "  ir = 4.0\n",
        "\n",
        "total = (1+ir/100) * deposit\n",
        "print(f'Total deposit: {total}$')"
      ],
      "metadata": {
        "colab": {
          "base_uri": "https://localhost:8080/"
        },
        "id": "bC5ZrdnUonc2",
        "outputId": "414030a9-a1b2-4cde-80e6-e1b104f1096a"
      },
      "execution_count": null,
      "outputs": [
        {
          "output_type": "stream",
          "name": "stdout",
          "text": [
            "Please provide your customer type (N: new/E: existing): E\n",
            "Please provide your deposit amount ($): 5000\n",
            "Total deposit: 5162.5$\n"
          ]
        }
      ]
    },
    {
      "cell_type": "code",
      "source": [
        "from ColabTurtlePlus.Turtle import *\n",
        "\n",
        "clearscreen()\n",
        "\n",
        "reset = True\n",
        "\n",
        "if reset:\n",
        "  clear()\n",
        "\n",
        "color('black', 'green')\n",
        "shape('blank')\n",
        "begin_fill()\n",
        "jumpto(0,0)\n",
        "\n",
        "for i in range(4): # Will run it 4 times\n",
        "  forward(100)\n",
        "  left(90)\n",
        "\n",
        "for i in range(0, 4, 1):\n",
        "  forward(100)\n",
        "  left(90)\n",
        "\n",
        "forward(100)\n",
        "left(90)\n",
        "\n",
        "forward(100)\n",
        "left(90)\n",
        "\n",
        "forward(100)\n",
        "left(90)\n",
        "\n",
        "end_fill()\n",
        "forward(100)"
      ],
      "metadata": {
        "id": "uIzsHdU6TWOG"
      },
      "execution_count": null,
      "outputs": []
    },
    {
      "cell_type": "code",
      "source": [
        "for number in range(2,11,2):\n",
        "  print(number, end=\" \")"
      ],
      "metadata": {
        "colab": {
          "base_uri": "https://localhost:8080/"
        },
        "id": "TH0Dbs_Ybshb",
        "outputId": "fc2a3b03-957a-437e-90c8-33593d6d689f"
      },
      "execution_count": null,
      "outputs": [
        {
          "output_type": "stream",
          "name": "stdout",
          "text": [
            "2 4 6 8 10 "
          ]
        }
      ]
    },
    {
      "cell_type": "code",
      "source": [
        "for number in range(1, 11):\n",
        "  if number % 2 == 0:\n",
        "    print(number, end=\" \")"
      ],
      "metadata": {
        "colab": {
          "base_uri": "https://localhost:8080/"
        },
        "id": "HliAK14McStQ",
        "outputId": "f3ba73f5-4352-4c3d-d695-0e67795cd813"
      },
      "execution_count": null,
      "outputs": [
        {
          "output_type": "stream",
          "name": "stdout",
          "text": [
            "2 4 6 8 10 "
          ]
        }
      ]
    },
    {
      "cell_type": "code",
      "source": [
        "num = 1\n",
        "\n",
        "while num < 5:\n",
        "  print(num, num ** 2, num ** 3)\n",
        "  num = num + 1"
      ],
      "metadata": {
        "colab": {
          "base_uri": "https://localhost:8080/"
        },
        "id": "7A9BHe4r6XgX",
        "outputId": "b544d796-0dea-4875-f648-f14a6d23a7fa"
      },
      "execution_count": null,
      "outputs": [
        {
          "output_type": "stream",
          "name": "stdout",
          "text": [
            "1 1 1\n",
            "2 4 8\n",
            "3 9 27\n",
            "4 16 64\n"
          ]
        }
      ]
    },
    {
      "cell_type": "code",
      "source": [
        "for num in range(1, 5):\n",
        "  print(num, num ** 2, num ** 3)"
      ],
      "metadata": {
        "colab": {
          "base_uri": "https://localhost:8080/"
        },
        "id": "U2FYfkfy7wSL",
        "outputId": "fda61410-fa88-4589-c64a-49494b8b70a1"
      },
      "execution_count": null,
      "outputs": [
        {
          "output_type": "stream",
          "name": "stdout",
          "text": [
            "1 1 1\n",
            "2 4 8\n",
            "3 9 27\n",
            "4 16 64\n"
          ]
        }
      ]
    },
    {
      "cell_type": "code",
      "source": [
        "s = input('Enter yes or no: ')\n",
        "\n",
        "while s == 'yes':\n",
        "  print('OK!')\n",
        "  s = input('Enter yes or no: ')"
      ],
      "metadata": {
        "colab": {
          "base_uri": "https://localhost:8080/"
        },
        "id": "rDnGyizS76xi",
        "outputId": "3db7265d-f645-46b9-9302-ecbb0e23e93e"
      },
      "execution_count": null,
      "outputs": [
        {
          "name": "stdout",
          "output_type": "stream",
          "text": [
            "Enter yes or no: yes\n",
            "OK!\n",
            "Enter yes or no: yes\n",
            "OK!\n",
            "Enter yes or no: yes\n",
            "OK!\n",
            "Enter yes or no: yes\n",
            "OK!\n",
            "Enter yes or no: no\n"
          ]
        }
      ]
    },
    {
      "cell_type": "code",
      "source": [
        "print('Ad$\\t', 'Profit')\n",
        "adMoney = 0\n",
        "while adMoney < 201:\n",
        "  revenue = (20 + 2 * round(adMoney ** 0.5)) * 10\n",
        "  costs = 200 + adMoney\n",
        "  profit = revenue - costs\n",
        "  print(adMoney, '\\t', profit)\n",
        "  adMoney = adMoney + 25"
      ],
      "metadata": {
        "colab": {
          "base_uri": "https://localhost:8080/"
        },
        "id": "Cgh6LXro-bO0",
        "outputId": "46120b47-b59a-4ac8-e6ae-41c826600889"
      },
      "execution_count": null,
      "outputs": [
        {
          "output_type": "stream",
          "name": "stdout",
          "text": [
            "Ad$\t Profit\n",
            "0 \t 0\n",
            "25 \t 75\n",
            "50 \t 90\n",
            "75 \t 105\n",
            "100 \t 100\n",
            "125 \t 95\n",
            "150 \t 90\n",
            "175 \t 85\n",
            "200 \t 80\n"
          ]
        }
      ]
    },
    {
      "cell_type": "code",
      "source": [
        "num = 9\n",
        "\n",
        "while num > 0:\n",
        "  num = num - 1\n",
        "  if num == 5:\n",
        "    break\n",
        "  print(num)\n",
        "print('End.')"
      ],
      "metadata": {
        "colab": {
          "base_uri": "https://localhost:8080/"
        },
        "id": "WdcbewaqANlO",
        "outputId": "0c550d86-0ea6-4229-9d67-82cc075d1396"
      },
      "execution_count": null,
      "outputs": [
        {
          "output_type": "stream",
          "name": "stdout",
          "text": [
            "8\n",
            "7\n",
            "6\n",
            "End.\n"
          ]
        }
      ]
    },
    {
      "cell_type": "code",
      "source": [
        "num = 9\n",
        "\n",
        "while num > 0:\n",
        "  num = num - 1\n",
        "  if num == 5:\n",
        "    continue\n",
        "  print(num)\n",
        "print('End.')"
      ],
      "metadata": {
        "colab": {
          "base_uri": "https://localhost:8080/"
        },
        "id": "7Hf4vtt7CfAc",
        "outputId": "97ef65bd-c83c-44a6-89b9-c992e4291879"
      },
      "execution_count": null,
      "outputs": [
        {
          "output_type": "stream",
          "name": "stdout",
          "text": [
            "8\n",
            "7\n",
            "6\n",
            "4\n",
            "3\n",
            "2\n",
            "1\n",
            "0\n",
            "End.\n"
          ]
        }
      ]
    },
    {
      "cell_type": "code",
      "source": [
        "for num in range(1,11):\n",
        "  if num % 2 != 0:\n",
        "    continue\n",
        "  print(num, end=' ')"
      ],
      "metadata": {
        "colab": {
          "base_uri": "https://localhost:8080/"
        },
        "id": "2FljFyoHDCVE",
        "outputId": "ef18c930-16b0-458a-8d7c-f589dd93e58e"
      },
      "execution_count": null,
      "outputs": [
        {
          "output_type": "stream",
          "name": "stdout",
          "text": [
            "2 4 6 8 10 "
          ]
        }
      ]
    },
    {
      "cell_type": "code",
      "source": [
        "s1 = \"This is a string,\"\n",
        "s2 = \" and this is a string also\""
      ],
      "metadata": {
        "id": "XK7uPQvzrD-8"
      },
      "execution_count": null,
      "outputs": []
    },
    {
      "cell_type": "code",
      "source": [
        "s1 + s2"
      ],
      "metadata": {
        "colab": {
          "base_uri": "https://localhost:8080/",
          "height": 35
        },
        "id": "pa4BnTGerMug",
        "outputId": "d5d907c2-850e-4809-b6ed-2bcbdf5c4a19"
      },
      "execution_count": null,
      "outputs": [
        {
          "output_type": "execute_result",
          "data": {
            "text/plain": [
              "'This is a string, and this is a string also'"
            ],
            "application/vnd.google.colaboratory.intrinsic+json": {
              "type": "string"
            }
          },
          "metadata": {},
          "execution_count": 3
        }
      ]
    },
    {
      "cell_type": "code",
      "source": [
        "?len"
      ],
      "metadata": {
        "id": "3I0nnD-8sAQp"
      },
      "execution_count": null,
      "outputs": []
    },
    {
      "cell_type": "code",
      "source": [
        "len(s2)"
      ],
      "metadata": {
        "colab": {
          "base_uri": "https://localhost:8080/"
        },
        "id": "eVvXLdEUr2RA",
        "outputId": "5a265ad7-25d2-48ac-e078-58d2ee12086f"
      },
      "execution_count": null,
      "outputs": [
        {
          "output_type": "execute_result",
          "data": {
            "text/plain": [
              "26"
            ]
          },
          "metadata": {},
          "execution_count": 7
        }
      ]
    },
    {
      "cell_type": "code",
      "source": [
        "s1[9]"
      ],
      "metadata": {
        "colab": {
          "base_uri": "https://localhost:8080/",
          "height": 35
        },
        "id": "h8Jylsn8tuV8",
        "outputId": "4bf5f5b5-b57b-436a-95ce-be8f3275e461"
      },
      "execution_count": null,
      "outputs": [
        {
          "output_type": "execute_result",
          "data": {
            "text/plain": [
              "' '"
            ],
            "application/vnd.google.colaboratory.intrinsic+json": {
              "type": "string"
            }
          },
          "metadata": {},
          "execution_count": 8
        }
      ]
    },
    {
      "cell_type": "code",
      "source": [
        "s1[0:4] == s1[:4]"
      ],
      "metadata": {
        "colab": {
          "base_uri": "https://localhost:8080/"
        },
        "id": "cHQCfCSzuU6G",
        "outputId": "159b4801-3cdc-4681-bf8c-f22b8460c24a"
      },
      "execution_count": null,
      "outputs": [
        {
          "output_type": "execute_result",
          "data": {
            "text/plain": [
              "True"
            ]
          },
          "metadata": {},
          "execution_count": 11
        }
      ]
    },
    {
      "cell_type": "code",
      "source": [
        "s2[22:len(s2)]"
      ],
      "metadata": {
        "colab": {
          "base_uri": "https://localhost:8080/",
          "height": 35
        },
        "id": "VvylMuxav5AJ",
        "outputId": "ec519e52-87b6-4b9c-8f39-91299b6d64a9"
      },
      "execution_count": null,
      "outputs": [
        {
          "output_type": "execute_result",
          "data": {
            "text/plain": [
              "'also'"
            ],
            "application/vnd.google.colaboratory.intrinsic+json": {
              "type": "string"
            }
          },
          "metadata": {},
          "execution_count": 10
        }
      ]
    },
    {
      "cell_type": "code",
      "source": [
        "s1[:] == s1[0:len(s1)]"
      ],
      "metadata": {
        "colab": {
          "base_uri": "https://localhost:8080/"
        },
        "id": "zw1-2RqPwdas",
        "outputId": "86220528-9b4b-475c-d610-db1077f23e68"
      },
      "execution_count": null,
      "outputs": [
        {
          "output_type": "execute_result",
          "data": {
            "text/plain": [
              "True"
            ]
          },
          "metadata": {},
          "execution_count": 12
        }
      ]
    },
    {
      "cell_type": "code",
      "source": [
        "s = 'qwertyuiopasdfghjklzxcvbnm'\n",
        "\n",
        "s[1:len(s)-1]\n",
        "s[1:-1]"
      ],
      "metadata": {
        "colab": {
          "base_uri": "https://localhost:8080/",
          "height": 35
        },
        "id": "lxsLRc7ZxRYV",
        "outputId": "8ac578bc-8ed9-457f-9e41-102906c8c5b2"
      },
      "execution_count": null,
      "outputs": [
        {
          "output_type": "execute_result",
          "data": {
            "text/plain": [
              "'wertyuiopasdfghjklzxcvbn'"
            ],
            "application/vnd.google.colaboratory.intrinsic+json": {
              "type": "string"
            }
          },
          "metadata": {},
          "execution_count": 2
        }
      ]
    },
    {
      "cell_type": "code",
      "source": [
        "s = ''\n",
        "len(s)"
      ],
      "metadata": {
        "colab": {
          "base_uri": "https://localhost:8080/"
        },
        "id": "3wdRvWVwyMqJ",
        "outputId": "7980d12b-1711-4291-c1bb-2d4fee4f996a"
      },
      "execution_count": null,
      "outputs": [
        {
          "output_type": "execute_result",
          "data": {
            "text/plain": [
              "0"
            ]
          },
          "metadata": {},
          "execution_count": 1
        }
      ]
    },
    {
      "cell_type": "code",
      "source": [
        "s = 'This is a string'\n",
        "print(s[15], s[len(s) - 1], s[-1])"
      ],
      "metadata": {
        "colab": {
          "base_uri": "https://localhost:8080/"
        },
        "id": "6_bHFAoLWdr_",
        "outputId": "487206cb-9c1c-472d-884f-d5772acc267d"
      },
      "execution_count": null,
      "outputs": [
        {
          "output_type": "stream",
          "name": "stdout",
          "text": [
            "g g g\n"
          ]
        }
      ]
    },
    {
      "cell_type": "code",
      "source": [
        "s = ''\n",
        "for _ in range(5):\n",
        "  s += 'a'\n",
        "print(s)"
      ],
      "metadata": {
        "colab": {
          "base_uri": "https://localhost:8080/"
        },
        "id": "vw9scBSlW2op",
        "outputId": "e8fbf735-20f3-4eb9-d4e8-18d65c077419"
      },
      "execution_count": null,
      "outputs": [
        {
          "output_type": "stream",
          "name": "stdout",
          "text": [
            "aaaaa\n"
          ]
        }
      ]
    },
    {
      "cell_type": "code",
      "source": [
        "h = 'This is a string'\n",
        "\n",
        "for idx in range(len(h)):\n",
        "  print(h[idx])"
      ],
      "metadata": {
        "colab": {
          "base_uri": "https://localhost:8080/"
        },
        "id": "tmWM4czN9IIW",
        "outputId": "08a33bb8-4440-4ef8-ab47-978b80ec632b"
      },
      "execution_count": null,
      "outputs": [
        {
          "output_type": "stream",
          "name": "stdout",
          "text": [
            "T\n",
            "h\n",
            "i\n",
            "s\n",
            " \n",
            "i\n",
            "s\n",
            " \n",
            "a\n",
            " \n",
            "s\n",
            "t\n",
            "r\n",
            "i\n",
            "n\n",
            "g\n"
          ]
        }
      ]
    },
    {
      "cell_type": "code",
      "source": [
        "for char in h:\n",
        "  print(char)"
      ],
      "metadata": {
        "colab": {
          "base_uri": "https://localhost:8080/"
        },
        "id": "BJUFyQfw_367",
        "outputId": "66566252-f2a4-458a-e4f9-37afd78c2c2a"
      },
      "execution_count": null,
      "outputs": [
        {
          "output_type": "stream",
          "name": "stdout",
          "text": [
            "T\n",
            "h\n",
            "i\n",
            "s\n",
            " \n",
            "i\n",
            "s\n",
            " \n",
            "a\n",
            " \n",
            "s\n",
            "t\n",
            "r\n",
            "i\n",
            "n\n",
            "g\n"
          ]
        }
      ]
    },
    {
      "cell_type": "code",
      "source": [
        "s = \"abcdufgh\"\n",
        "for index in range(len(s)):\n",
        "  if s[index] == 'i' or s[index] == 'u':\n",
        "    print(\"There is an i or u\")\n",
        "for char in s:\n",
        "  if char == 'i' or char == 'u':\n",
        "    print(\"There is an i or u\")"
      ],
      "metadata": {
        "colab": {
          "base_uri": "https://localhost:8080/"
        },
        "id": "93EAcmHSXOOs",
        "outputId": "7ac317b0-86e9-4aeb-dd4e-e0a33edbe0bd"
      },
      "execution_count": null,
      "outputs": [
        {
          "output_type": "stream",
          "name": "stdout",
          "text": [
            "There is an i or u\n",
            "There is an i or u\n"
          ]
        }
      ]
    },
    {
      "cell_type": "code",
      "source": [
        "h = \"This is a string\"\n",
        "w = \"Today is Friday\"\n",
        "\n",
        "for c in h:\n",
        "  if 'is' in h:\n",
        "    print('Found')\n",
        "    break"
      ],
      "metadata": {
        "colab": {
          "base_uri": "https://localhost:8080/"
        },
        "id": "Hl1RLkMOAkv1",
        "outputId": "4961210e-82dd-4914-91fa-02bc3a5ca888"
      },
      "execution_count": null,
      "outputs": [
        {
          "output_type": "stream",
          "name": "stdout",
          "text": [
            "Found\n"
          ]
        }
      ]
    },
    {
      "cell_type": "markdown",
      "source": [
        "Typecasting"
      ],
      "metadata": {
        "id": "cCTJv7dVEB_8"
      }
    },
    {
      "cell_type": "code",
      "source": [
        "empty = []\n",
        "pure = [1, 2, 3] #items of the same type is considered \"pure\"\n",
        "L = [1, 'two', 3.14, [4,5,6]]"
      ],
      "metadata": {
        "id": "R__mj0T9EBm1"
      },
      "execution_count": null,
      "outputs": []
    },
    {
      "cell_type": "code",
      "source": [
        "2 * pure"
      ],
      "metadata": {
        "colab": {
          "base_uri": "https://localhost:8080/"
        },
        "id": "7XTk2LKlE1UI",
        "outputId": "01e06bed-fbc1-4a40-f360-a295a9b2f2d2"
      },
      "execution_count": null,
      "outputs": [
        {
          "output_type": "execute_result",
          "data": {
            "text/plain": [
              "[1, 2, 3, 1, 2, 3]"
            ]
          },
          "metadata": {},
          "execution_count": 9
        }
      ]
    },
    {
      "cell_type": "code",
      "source": [
        "len(empty), len(pure), len(L)"
      ],
      "metadata": {
        "colab": {
          "base_uri": "https://localhost:8080/"
        },
        "id": "U15Y0kHCE5sb",
        "outputId": "cd0a9184-d76e-46b3-d530-109a81ac0833"
      },
      "execution_count": null,
      "outputs": [
        {
          "output_type": "execute_result",
          "data": {
            "text/plain": [
              "(0, 3, 4)"
            ]
          },
          "metadata": {},
          "execution_count": 10
        }
      ]
    },
    {
      "cell_type": "code",
      "source": [
        "L[2]"
      ],
      "metadata": {
        "colab": {
          "base_uri": "https://localhost:8080/"
        },
        "id": "eXm1wO8hFEtN",
        "outputId": "3488e290-3d0f-4f93-d6ab-a7f4f5b1c167"
      },
      "execution_count": null,
      "outputs": [
        {
          "output_type": "execute_result",
          "data": {
            "text/plain": [
              "3.14"
            ]
          },
          "metadata": {},
          "execution_count": 11
        }
      ]
    },
    {
      "cell_type": "code",
      "source": [
        "L[1:3]"
      ],
      "metadata": {
        "colab": {
          "base_uri": "https://localhost:8080/"
        },
        "id": "Tcpi_68NFGxV",
        "outputId": "e00a5a93-f6be-42cc-9c64-5f193bb2d52e"
      },
      "execution_count": null,
      "outputs": [
        {
          "output_type": "execute_result",
          "data": {
            "text/plain": [
              "['two', 3.14]"
            ]
          },
          "metadata": {},
          "execution_count": 12
        }
      ]
    },
    {
      "cell_type": "code",
      "source": [
        "h = \"This is a string\"\n",
        "\n",
        "h[2] = 'f' #won't work strings can't be modified"
      ],
      "metadata": {
        "colab": {
          "base_uri": "https://localhost:8080/",
          "height": 173
        },
        "id": "LQRR9N2WFR0z",
        "outputId": "36dee8d7-c699-4913-cecc-bc20c4dbb5aa"
      },
      "execution_count": null,
      "outputs": [
        {
          "output_type": "error",
          "ename": "TypeError",
          "evalue": "'str' object does not support item assignment",
          "traceback": [
            "\u001b[0;31m---------------------------------------------------------------------------\u001b[0m",
            "\u001b[0;31mTypeError\u001b[0m                                 Traceback (most recent call last)",
            "\u001b[0;32m<ipython-input-13-0b1498021cc1>\u001b[0m in \u001b[0;36m<cell line: 0>\u001b[0;34m()\u001b[0m\n\u001b[1;32m      1\u001b[0m \u001b[0mh\u001b[0m \u001b[0;34m=\u001b[0m \u001b[0;34m\"This is a string\"\u001b[0m\u001b[0;34m\u001b[0m\u001b[0;34m\u001b[0m\u001b[0m\n\u001b[1;32m      2\u001b[0m \u001b[0;34m\u001b[0m\u001b[0m\n\u001b[0;32m----> 3\u001b[0;31m \u001b[0mh\u001b[0m\u001b[0;34m[\u001b[0m\u001b[0;36m2\u001b[0m\u001b[0;34m]\u001b[0m \u001b[0;34m=\u001b[0m \u001b[0;34m'f'\u001b[0m \u001b[0;31m#won't work strings can't be modified\u001b[0m\u001b[0;34m\u001b[0m\u001b[0;34m\u001b[0m\u001b[0m\n\u001b[0m",
            "\u001b[0;31mTypeError\u001b[0m: 'str' object does not support item assignment"
          ]
        }
      ]
    },
    {
      "cell_type": "code",
      "source": [
        "L = [1, 'two', 3.14, [4,5,6]]\n",
        "\n",
        "L[2] = h\n",
        "L"
      ],
      "metadata": {
        "colab": {
          "base_uri": "https://localhost:8080/"
        },
        "id": "IUSNyypvFh_a",
        "outputId": "eb3794f9-20c8-4232-904f-25ebbc068a6a"
      },
      "execution_count": null,
      "outputs": [
        {
          "output_type": "execute_result",
          "data": {
            "text/plain": [
              "[1, 'two', 'This is a string', [4, 5, 6]]"
            ]
          },
          "metadata": {},
          "execution_count": 15
        }
      ]
    },
    {
      "cell_type": "code",
      "source": [
        "pure = [1,2,3]\n",
        "\n",
        "pure.append(4)\n",
        "pure"
      ],
      "metadata": {
        "colab": {
          "base_uri": "https://localhost:8080/"
        },
        "id": "ibpFjHgBGLZe",
        "outputId": "cf556821-fb7d-439a-8bc8-6afcf6b174d1"
      },
      "execution_count": null,
      "outputs": [
        {
          "output_type": "execute_result",
          "data": {
            "text/plain": [
              "[1, 2, 3, 4]"
            ]
          },
          "metadata": {},
          "execution_count": 17
        }
      ]
    },
    {
      "cell_type": "code",
      "source": [
        "pure = [1,2,3]\n",
        "\n",
        "pure.extend([4,5,6])\n",
        "pure"
      ],
      "metadata": {
        "colab": {
          "base_uri": "https://localhost:8080/"
        },
        "id": "CkG77DTSGZby",
        "outputId": "8632e8cd-f15b-404f-acae-ec0394b02116"
      },
      "execution_count": null,
      "outputs": [
        {
          "output_type": "execute_result",
          "data": {
            "text/plain": [
              "[1, 2, 3, 4, 5, 6]"
            ]
          },
          "metadata": {},
          "execution_count": 18
        }
      ]
    },
    {
      "cell_type": "code",
      "source": [
        "L = [1, 2, 3]\n",
        "L.insert(1, 5)\n",
        "L"
      ],
      "metadata": {
        "colab": {
          "base_uri": "https://localhost:8080/"
        },
        "id": "RHSon-nuYyyw",
        "outputId": "a58faced-cc6e-4e11-d6d8-15b5dc184ee3"
      },
      "execution_count": null,
      "outputs": [
        {
          "output_type": "execute_result",
          "data": {
            "text/plain": [
              "[1, 5, 2, 3]"
            ]
          },
          "metadata": {},
          "execution_count": 1
        }
      ]
    },
    {
      "cell_type": "code",
      "source": [
        "T = [1, 'two', 3.14, [4,5,6]]\n",
        "T.pop(1)\n",
        "T"
      ],
      "metadata": {
        "colab": {
          "base_uri": "https://localhost:8080/"
        },
        "id": "2DeuSwC4a9Np",
        "outputId": "578acd17-fae4-4ec7-af5a-2b1029901763"
      },
      "execution_count": null,
      "outputs": [
        {
          "output_type": "execute_result",
          "data": {
            "text/plain": [
              "[1, 3.14, [4, 5, 6]]"
            ]
          },
          "metadata": {},
          "execution_count": 2
        }
      ]
    },
    {
      "cell_type": "code",
      "source": [
        "J = [1, 'two', 3.14, [4,5,6]]\n",
        "J.insert(3, 5)\n",
        "J"
      ],
      "metadata": {
        "colab": {
          "base_uri": "https://localhost:8080/"
        },
        "id": "ckXF9oz4dUwI",
        "outputId": "e445819d-89ea-4bb3-f656-0a5e0120ddf4"
      },
      "execution_count": null,
      "outputs": [
        {
          "output_type": "execute_result",
          "data": {
            "text/plain": [
              "[1, 'two', 3.14, 5, [4, 5, 6]]"
            ]
          },
          "metadata": {},
          "execution_count": 13
        }
      ]
    },
    {
      "cell_type": "code",
      "source": [
        "#removes the first occurrence of this item\n",
        "\n",
        "T = [1, 'two', 3.14, [4,5,6]]\n",
        "T.remove(3.14)\n",
        "T"
      ],
      "metadata": {
        "colab": {
          "base_uri": "https://localhost:8080/"
        },
        "id": "BqSnI8W9bgO0",
        "outputId": "70aaa4b9-1928-458a-ec68-b08b5e9673f2"
      },
      "execution_count": null,
      "outputs": [
        {
          "output_type": "execute_result",
          "data": {
            "text/plain": [
              "[1, 'two', [4, 5, 6]]"
            ]
          },
          "metadata": {},
          "execution_count": 3
        }
      ]
    },
    {
      "cell_type": "code",
      "source": [
        "L = [5,8,1,0,2,4]\n",
        "L.sort()  #ascending order\n",
        "L\n",
        "\n",
        "L.sort(reverse=True)  #descending order\n",
        "L"
      ],
      "metadata": {
        "colab": {
          "base_uri": "https://localhost:8080/"
        },
        "id": "3I2R1YzqcWxj",
        "outputId": "3e53df05-5f07-4f37-818d-bda34dcff819"
      },
      "execution_count": null,
      "outputs": [
        {
          "output_type": "execute_result",
          "data": {
            "text/plain": [
              "[8, 5, 4, 2, 1, 0]"
            ]
          },
          "metadata": {},
          "execution_count": 5
        }
      ]
    },
    {
      "cell_type": "code",
      "source": [
        "#increasing size of list\n",
        "L.append()\n",
        "L.extend()\n",
        "L.insert()\n",
        "#decreasing size of list\n",
        "L.pop()\n",
        "L.remove()"
      ],
      "metadata": {
        "id": "AtlXKFyBc0x9"
      },
      "execution_count": null,
      "outputs": []
    },
    {
      "cell_type": "code",
      "source": [
        "L1 = [1,2,3,4]\n",
        "L2 = [1,2,5,6]\n",
        "\n",
        "for item in L1[:]:\n",
        "  if item in L2:\n",
        "    L1.remove(item)\n",
        "\n",
        "L1"
      ],
      "metadata": {
        "colab": {
          "base_uri": "https://localhost:8080/"
        },
        "id": "73v_wyK8iFeo",
        "outputId": "ef3699eb-6707-438e-f6c1-f02c7d057324"
      },
      "execution_count": null,
      "outputs": [
        {
          "output_type": "execute_result",
          "data": {
            "text/plain": [
              "[2, 3, 4]"
            ]
          },
          "metadata": {},
          "execution_count": 6
        }
      ]
    },
    {
      "cell_type": "code",
      "source": [
        "emptyL = []\n",
        "emptyT = ()"
      ],
      "metadata": {
        "id": "Iyovi92HtFsy"
      },
      "execution_count": null,
      "outputs": []
    },
    {
      "cell_type": "code",
      "source": [
        "emptyL + [4]"
      ],
      "metadata": {
        "colab": {
          "base_uri": "https://localhost:8080/"
        },
        "id": "n3-84EPxuElS",
        "outputId": "87afc580-d6ce-42da-c410-201e854e8474"
      },
      "execution_count": null,
      "outputs": [
        {
          "output_type": "execute_result",
          "data": {
            "text/plain": [
              "[4]"
            ]
          },
          "metadata": {},
          "execution_count": 3
        }
      ]
    },
    {
      "cell_type": "code",
      "source": [
        "emptyT + (4,)"
      ],
      "metadata": {
        "colab": {
          "base_uri": "https://localhost:8080/"
        },
        "id": "CYl3JcOEuSsZ",
        "outputId": "d73165e5-3104-4faa-8c31-a3c35a608bbb"
      },
      "execution_count": null,
      "outputs": [
        {
          "output_type": "execute_result",
          "data": {
            "text/plain": [
              "(4,)"
            ]
          },
          "metadata": {},
          "execution_count": 6
        }
      ]
    },
    {
      "cell_type": "code",
      "source": [
        "grades = {\n",
        "    'John': 93,\n",
        "    'Jane': 95,\n",
        "    'Bob': 91,\n",
        "    'Alice': 91\n",
        "}"
      ],
      "metadata": {
        "id": "mZJPIkzFvrTX"
      },
      "execution_count": null,
      "outputs": []
    },
    {
      "cell_type": "code",
      "source": [
        "len(grades)"
      ],
      "metadata": {
        "colab": {
          "base_uri": "https://localhost:8080/"
        },
        "id": "qK-d9E-cv728",
        "outputId": "2ae0028e-36a3-40a2-dab8-83d9fe4ec37c"
      },
      "execution_count": null,
      "outputs": [
        {
          "output_type": "execute_result",
          "data": {
            "text/plain": [
              "4"
            ]
          },
          "metadata": {},
          "execution_count": 8
        }
      ]
    },
    {
      "cell_type": "code",
      "source": [
        "grades['Bob']"
      ],
      "metadata": {
        "colab": {
          "base_uri": "https://localhost:8080/"
        },
        "id": "xbupqCOHv_O_",
        "outputId": "0451b08d-acd1-4eff-d90e-72b4d9782f28"
      },
      "execution_count": null,
      "outputs": [
        {
          "output_type": "execute_result",
          "data": {
            "text/plain": [
              "91"
            ]
          },
          "metadata": {},
          "execution_count": 9
        }
      ]
    },
    {
      "cell_type": "code",
      "source": [
        "grades['Jane'] = 100\n",
        "grades"
      ],
      "metadata": {
        "colab": {
          "base_uri": "https://localhost:8080/"
        },
        "id": "joNi4K85w-LR",
        "outputId": "791f35c1-3dbb-41d8-b4e8-17f07ab0daf8"
      },
      "execution_count": null,
      "outputs": [
        {
          "output_type": "execute_result",
          "data": {
            "text/plain": [
              "{'John': 93, 'Jane': 100, 'Bob': 91, 'Alice': 91, 'Bryan': 100}"
            ]
          },
          "metadata": {},
          "execution_count": 12
        }
      ]
    },
    {
      "cell_type": "code",
      "source": [
        "del(grades['Bryan'])\n",
        "grades"
      ],
      "metadata": {
        "colab": {
          "base_uri": "https://localhost:8080/"
        },
        "id": "sqT4lneqxVp4",
        "outputId": "d39eb79c-1df8-473c-bfb0-1ea8abab2e61"
      },
      "execution_count": null,
      "outputs": [
        {
          "output_type": "execute_result",
          "data": {
            "text/plain": [
              "{'John': 93, 'Jane': 100, 'Bob': 91, 'Alice': 91}"
            ]
          },
          "metadata": {},
          "execution_count": 13
        }
      ]
    },
    {
      "cell_type": "code",
      "source": [
        "for k in grades.keys():\n",
        "  print(k)"
      ],
      "metadata": {
        "colab": {
          "base_uri": "https://localhost:8080/"
        },
        "id": "pb4VN141xa6M",
        "outputId": "6a1fb203-5761-47e0-bc34-343e4cf1c47e"
      },
      "execution_count": null,
      "outputs": [
        {
          "output_type": "stream",
          "name": "stdout",
          "text": [
            "John\n",
            "Jane\n",
            "Bob\n",
            "Alice\n"
          ]
        }
      ]
    },
    {
      "cell_type": "code",
      "source": [
        "for v in grades.values():\n",
        "  print(v)"
      ],
      "metadata": {
        "colab": {
          "base_uri": "https://localhost:8080/"
        },
        "id": "FCs-7Lndyph1",
        "outputId": "57bc66e0-e35a-4a92-f0f0-685bc6a192a1"
      },
      "execution_count": null,
      "outputs": [
        {
          "output_type": "stream",
          "name": "stdout",
          "text": [
            "93\n",
            "100\n",
            "91\n",
            "91\n"
          ]
        }
      ]
    },
    {
      "cell_type": "code",
      "source": [
        "for k, v in grades.items():\n",
        "  print(k, v)"
      ],
      "metadata": {
        "colab": {
          "base_uri": "https://localhost:8080/"
        },
        "id": "sMKY9LdHyty1",
        "outputId": "b39a3e4e-26d3-46a2-af11-1a158f144e8c"
      },
      "execution_count": null,
      "outputs": [
        {
          "output_type": "stream",
          "name": "stdout",
          "text": [
            "John 93\n",
            "Jane 100\n",
            "Bob 91\n",
            "Alice 91\n"
          ]
        }
      ]
    },
    {
      "cell_type": "code",
      "source": [
        "db = {\n",
        "  'example1@miami.edu': {\n",
        "      'First': 'John',\n",
        "      'Last': 'Doe',\n",
        "      'Phone #': '(555) 123-4567'\n",
        "    },\n",
        "  'example2@miami.edu': {\n",
        "      'First': 'Jane',\n",
        "      'Last': 'Doe',\n",
        "      'Phone #': '(555) 456-7890'\n",
        "    }\n",
        "}"
      ],
      "metadata": {
        "id": "mDyz9Ckb0D0g"
      },
      "execution_count": null,
      "outputs": []
    },
    {
      "cell_type": "code",
      "source": [
        "for k in db.keys():\n",
        "  print(k, db[k]['Phone #'])"
      ],
      "metadata": {
        "colab": {
          "base_uri": "https://localhost:8080/"
        },
        "id": "Frioa-xf1MRD",
        "outputId": "9338c4ff-4853-4fe7-bc00-6db62491ad14"
      },
      "execution_count": null,
      "outputs": [
        {
          "output_type": "stream",
          "name": "stdout",
          "text": [
            "example1@miami.edu (555) 123-4567\n",
            "example2@miami.edu (555) 456-7890\n"
          ]
        }
      ]
    },
    {
      "cell_type": "code",
      "source": [
        "s1 = {1,2,3,4,4}\n",
        "s2 = {1,2,5,6}\n",
        "s1"
      ],
      "metadata": {
        "colab": {
          "base_uri": "https://localhost:8080/"
        },
        "id": "kFSykOSu1wT3",
        "outputId": "169448f7-ec74-438f-ddf9-8690b59815bd"
      },
      "execution_count": null,
      "outputs": [
        {
          "output_type": "execute_result",
          "data": {
            "text/plain": [
              "{1, 2, 3, 4}"
            ]
          },
          "metadata": {},
          "execution_count": 24
        }
      ]
    },
    {
      "cell_type": "code",
      "source": [
        "s1.union(s2)"
      ],
      "metadata": {
        "colab": {
          "base_uri": "https://localhost:8080/"
        },
        "id": "9wqXabIY123K",
        "outputId": "b9c2467f-8e24-420b-dc38-ef11b09fa878"
      },
      "execution_count": null,
      "outputs": [
        {
          "output_type": "execute_result",
          "data": {
            "text/plain": [
              "{1, 2, 3, 4, 5, 6}"
            ]
          },
          "metadata": {},
          "execution_count": 25
        }
      ]
    },
    {
      "cell_type": "code",
      "source": [
        "s1 | s2"
      ],
      "metadata": {
        "colab": {
          "base_uri": "https://localhost:8080/"
        },
        "id": "kYRfB0Rk19Xk",
        "outputId": "6fa18c3f-3afd-4614-caab-75848766baef"
      },
      "execution_count": null,
      "outputs": [
        {
          "output_type": "execute_result",
          "data": {
            "text/plain": [
              "{1, 2, 3, 4, 5, 6}"
            ]
          },
          "metadata": {},
          "execution_count": 26
        }
      ]
    },
    {
      "cell_type": "code",
      "source": [
        "s1.intersection(s2)"
      ],
      "metadata": {
        "colab": {
          "base_uri": "https://localhost:8080/"
        },
        "id": "MCW_JRsS2GCP",
        "outputId": "29021547-e306-4bdf-c2b0-ae2c2c8cd80f"
      },
      "execution_count": null,
      "outputs": [
        {
          "output_type": "execute_result",
          "data": {
            "text/plain": [
              "{1, 2}"
            ]
          },
          "metadata": {},
          "execution_count": 27
        }
      ]
    },
    {
      "cell_type": "code",
      "source": [
        "s1 & s2"
      ],
      "metadata": {
        "colab": {
          "base_uri": "https://localhost:8080/"
        },
        "id": "-8EwrPUP2IMi",
        "outputId": "2435eff6-a9ee-44bb-bbc9-b833c6e63706"
      },
      "execution_count": null,
      "outputs": [
        {
          "output_type": "execute_result",
          "data": {
            "text/plain": [
              "{1, 2}"
            ]
          },
          "metadata": {},
          "execution_count": 28
        }
      ]
    },
    {
      "cell_type": "code",
      "source": [
        "s1.difference(s2)"
      ],
      "metadata": {
        "colab": {
          "base_uri": "https://localhost:8080/"
        },
        "id": "b6OWZF1r2LRU",
        "outputId": "e354f4f3-1a36-4038-b2fa-b702cf744630"
      },
      "execution_count": null,
      "outputs": [
        {
          "output_type": "execute_result",
          "data": {
            "text/plain": [
              "{3, 4}"
            ]
          },
          "metadata": {},
          "execution_count": 29
        }
      ]
    },
    {
      "cell_type": "code",
      "source": [
        "s1 - s2"
      ],
      "metadata": {
        "colab": {
          "base_uri": "https://localhost:8080/"
        },
        "id": "ndOgWPYb2P25",
        "outputId": "2bbc96f5-375c-4fe0-aa64-2eea1431f102"
      },
      "execution_count": null,
      "outputs": [
        {
          "output_type": "execute_result",
          "data": {
            "text/plain": [
              "{3, 4}"
            ]
          },
          "metadata": {},
          "execution_count": 30
        }
      ]
    },
    {
      "cell_type": "code",
      "source": [
        "s1.symmetric_difference(s2)"
      ],
      "metadata": {
        "colab": {
          "base_uri": "https://localhost:8080/"
        },
        "id": "kiBDwDwp2VCC",
        "outputId": "d8c8d6cb-d232-42e6-c737-625848cd85b6"
      },
      "execution_count": null,
      "outputs": [
        {
          "output_type": "execute_result",
          "data": {
            "text/plain": [
              "{3, 4, 5, 6}"
            ]
          },
          "metadata": {},
          "execution_count": 31
        }
      ]
    },
    {
      "cell_type": "code",
      "source": [
        "odds = []\n",
        "\n",
        "for num in range(1,10,2):\n",
        "  odds.append(num)\n",
        "odds"
      ],
      "metadata": {
        "colab": {
          "base_uri": "https://localhost:8080/"
        },
        "id": "HHu4JK-22Y6D",
        "outputId": "794fde23-1854-4cb8-8461-fbbbe5dea4b2"
      },
      "execution_count": null,
      "outputs": [
        {
          "output_type": "execute_result",
          "data": {
            "text/plain": [
              "[1, 3, 5, 7, 9]"
            ]
          },
          "metadata": {},
          "execution_count": 2
        }
      ]
    },
    {
      "cell_type": "code",
      "source": [
        "fruits = [\"apple\",\"banana\",\"cherry\",\"kiwi\",\"mango\"]\n",
        "newlist = []\n",
        "for x in fruits:\n",
        "  if \"a\" in x:\n",
        "    newlist.append(x)\n",
        "print(newlist)"
      ],
      "metadata": {
        "colab": {
          "base_uri": "https://localhost:8080/"
        },
        "id": "VZH5dwaCfzee",
        "outputId": "9e6db126-a15c-4935-8116-27595ebb101a"
      },
      "execution_count": null,
      "outputs": [
        {
          "output_type": "stream",
          "name": "stdout",
          "text": [
            "['apple', 'banana', 'mango']\n"
          ]
        }
      ]
    },
    {
      "cell_type": "code",
      "source": [
        "L = [item for item in sequence if condition]"
      ],
      "metadata": {
        "id": "ESBfgqF1dBPe"
      },
      "execution_count": null,
      "outputs": []
    },
    {
      "cell_type": "code",
      "source": [
        "odds = [num for num in range(1,10,2)]\n",
        "odds"
      ],
      "metadata": {
        "colab": {
          "base_uri": "https://localhost:8080/"
        },
        "id": "5u21UZhgdKxW",
        "outputId": "e29e7039-a96a-4e83-ed7a-f746203a7383"
      },
      "execution_count": null,
      "outputs": [
        {
          "output_type": "execute_result",
          "data": {
            "text/plain": [
              "[1, 3, 5, 7, 9]"
            ]
          },
          "metadata": {},
          "execution_count": 5
        }
      ]
    },
    {
      "cell_type": "code",
      "source": [
        "def adder(input1, input2):\n",
        "  output = input1 + input2\n",
        "  return output"
      ],
      "metadata": {
        "id": "R3rbaJ-kdgY1"
      },
      "execution_count": null,
      "outputs": []
    },
    {
      "cell_type": "code",
      "source": [
        "x = 2\n",
        "y = 1.5\n",
        "\n",
        "z = adder(x, y)\n",
        "print(z)"
      ],
      "metadata": {
        "colab": {
          "base_uri": "https://localhost:8080/"
        },
        "id": "RmUfokweh2EJ",
        "outputId": "a452ae8e-a2e2-454f-d14c-85fe8e89c236"
      },
      "execution_count": null,
      "outputs": [
        {
          "output_type": "stream",
          "name": "stdout",
          "text": [
            "3.5\n"
          ]
        }
      ]
    },
    {
      "cell_type": "code",
      "source": [
        "def range_check(item, sequence):\n",
        "  print('Inside range_check()')\n",
        "  if item in sequence:\n",
        "    return True\n",
        "  else:\n",
        "    return False\n",
        "\n",
        "print('Program starts...')\n",
        "c = range_check(2, (1,2,3))\n",
        "print(c)"
      ],
      "metadata": {
        "colab": {
          "base_uri": "https://localhost:8080/"
        },
        "id": "1XKSv96Jix7f",
        "outputId": "7353b6e7-8f55-484d-a922-cfa1abf46d44"
      },
      "execution_count": null,
      "outputs": [
        {
          "output_type": "stream",
          "name": "stdout",
          "text": [
            "Program starts...\n",
            "Inside range_check()\n",
            "True\n"
          ]
        }
      ]
    },
    {
      "cell_type": "code",
      "source": [
        "def reverse_name(first, last, reverse=True):\n",
        "  if reverse:\n",
        "    print(f'{last}, {first}')\n",
        "  else:\n",
        "    print(first, last)\n",
        "\n",
        "reverse_name('John', 'Doe')"
      ],
      "metadata": {
        "colab": {
          "base_uri": "https://localhost:8080/"
        },
        "id": "IIWGJOJJk4SC",
        "outputId": "cb9dec59-c710-4f80-ad81-cf61128be47f"
      },
      "execution_count": null,
      "outputs": [
        {
          "output_type": "stream",
          "name": "stdout",
          "text": [
            "Doe, John\n"
          ]
        }
      ]
    },
    {
      "cell_type": "markdown",
      "source": [
        "Global scope: First thing the interpreter sees is f(). It skips all of the indented lines and goes straight to x=3, y=2, and z=f(x). Then it uses those and goes back to the defined function. Then executes the last part of the code.\n",
        "\n",
        "*Global*\n",
        "f(x) |\n",
        "x    | 3\n",
        "y    | 2\n",
        "z    |\n",
        "\n",
        "*Local*\n",
        "y    | 1\n",
        "x    | 4\n",
        "\n",
        "x = 4\n",
        "z = 4\n",
        "x = 3\n",
        "y = 2\n",
        "\n"
      ],
      "metadata": {
        "id": "MnxbsKZ4aenT"
      }
    },
    {
      "cell_type": "code",
      "source": [
        "def f(x): #name x used as formal parameter\n",
        "  y=1\n",
        "  x=x+y\n",
        "  print('x =', x)\n",
        "  return x\n",
        "\n",
        "x = 3\n",
        "y = 2\n",
        "z = f(x) #value of x used as actual parameter\n",
        "print('z =', z)\n",
        "print('x =', x)\n",
        "print('y =', y)"
      ],
      "metadata": {
        "colab": {
          "base_uri": "https://localhost:8080/"
        },
        "id": "siwO2QF4cG1E",
        "outputId": "732f0219-69a8-43f3-83eb-6ad58a194054"
      },
      "execution_count": null,
      "outputs": [
        {
          "output_type": "stream",
          "name": "stdout",
          "text": [
            "x = 4\n",
            "z = 4\n",
            "x = 3\n",
            "y = 2\n"
          ]
        }
      ]
    },
    {
      "cell_type": "markdown",
      "source": [
        "*Global*   \n",
        "| f() = |  \n",
        "| x = 3 |   \n",
        "| z = g() |\n",
        "\n",
        "*Local F*  \n",
        "| g() = |   \n",
        "| h() = |   \n",
        "| x = 4 |   \n",
        "\n",
        "*Local H*     \n",
        "| z = 4 |\n",
        "\n",
        "*Local G*   \n",
        "| x = 'abc' |\n",
        "\n",
        "z is g() so.  \n",
        "*Local G* again  \n",
        "| x = 'abc' |"
      ],
      "metadata": {
        "id": "gjoXtMmeeLxT"
      }
    },
    {
      "cell_type": "code",
      "source": [
        "def f(x):\n",
        "  def g():\n",
        "      x = 'abc'\n",
        "      print('x =', x)\n",
        "  def h():\n",
        "      z = x\n",
        "      print('z =', z)\n",
        "  x = x + 1\n",
        "  print('x =', x)\n",
        "  h()\n",
        "  g()\n",
        "  print('x =', x)\n",
        "\n",
        "  return g\n",
        "\n",
        "x = 3\n",
        "z = f(x)\n",
        "print('x =', x)\n",
        "print('z =', z)\n",
        "z()"
      ],
      "metadata": {
        "colab": {
          "base_uri": "https://localhost:8080/"
        },
        "id": "AW1RhXWGdjXu",
        "outputId": "1cda2539-0100-42c9-ace5-657b4059801f"
      },
      "execution_count": null,
      "outputs": [
        {
          "output_type": "stream",
          "name": "stdout",
          "text": [
            "x = 4\n",
            "z = 4\n",
            "x = abc\n",
            "x = 4\n",
            "x = 3\n",
            "z = <function f.<locals>.g at 0x7d405e6c7380>\n",
            "x = abc\n"
          ]
        }
      ]
    },
    {
      "cell_type": "code",
      "source": [
        "def summation(n):\n",
        "  total = 0\n",
        "  for i in range(1, n+1):\n",
        "    total = total + i\n",
        "  return total\n",
        "summation(100)"
      ],
      "metadata": {
        "colab": {
          "base_uri": "https://localhost:8080/"
        },
        "id": "acWwnrOKAObZ",
        "outputId": "e2d54046-ba85-4ff7-efbf-10aaf83ad545"
      },
      "execution_count": null,
      "outputs": [
        {
          "output_type": "execute_result",
          "data": {
            "text/plain": [
              "5050"
            ]
          },
          "metadata": {},
          "execution_count": 1
        }
      ]
    },
    {
      "cell_type": "code",
      "source": [
        "def summationR(n):\n",
        "  if n == 1:\n",
        "    return 1\n",
        "  else:\n",
        "    return n + summationR(n-1)\n",
        "summationR(100)"
      ],
      "metadata": {
        "colab": {
          "base_uri": "https://localhost:8080/"
        },
        "id": "TRanuTE6AZjV",
        "outputId": "18d67e58-951f-42d5-bfa3-81cc328055d9"
      },
      "execution_count": null,
      "outputs": [
        {
          "output_type": "execute_result",
          "data": {
            "text/plain": [
              "5050"
            ]
          },
          "metadata": {},
          "execution_count": 2
        }
      ]
    },
    {
      "cell_type": "code",
      "source": [
        "def factR(n):\n",
        "  if n == 1: # base case: the problem is at a trivial solution step\n",
        "    return 1\n",
        "  else:      # inductive, a.k.a. recursive case: the function needs to call itself\n",
        "    return n * factR(n-1)\n",
        "factR(5)"
      ],
      "metadata": {
        "colab": {
          "base_uri": "https://localhost:8080/"
        },
        "id": "Qgn9o03VEVIX",
        "outputId": "7631518f-f039-46bb-dcb6-cb29a6bd561d"
      },
      "execution_count": null,
      "outputs": [
        {
          "output_type": "execute_result",
          "data": {
            "text/plain": [
              "120"
            ]
          },
          "metadata": {},
          "execution_count": 3
        }
      ]
    },
    {
      "cell_type": "code",
      "source": [
        "def fibR(n):\n",
        "  if n > 1:\n",
        "    return fibR(n-1) + fibR(n-2)\n",
        "  else:\n",
        "    return 1\n",
        "fibR(5)"
      ],
      "metadata": {
        "colab": {
          "base_uri": "https://localhost:8080/"
        },
        "id": "fpRSka5cEdVs",
        "outputId": "08239d8a-29d2-487f-edca-093e3ebd7d31"
      },
      "execution_count": null,
      "outputs": [
        {
          "output_type": "execute_result",
          "data": {
            "text/plain": [
              "8"
            ]
          },
          "metadata": {},
          "execution_count": 4
        }
      ]
    },
    {
      "cell_type": "code",
      "source": [
        "def linear_search(arr, target):\n",
        "  for item in arr:\n",
        "    if item == target:\n",
        "      return item\n",
        "\n",
        "  return -1\n",
        "linear_search([1,4,2,6], 8)"
      ],
      "metadata": {
        "colab": {
          "base_uri": "https://localhost:8080/"
        },
        "id": "VS4asWSwf0DH",
        "outputId": "6d5db413-710d-4a6d-dfa3-a4faf71489d5"
      },
      "execution_count": null,
      "outputs": [
        {
          "output_type": "execute_result",
          "data": {
            "text/plain": [
              "-1"
            ]
          },
          "metadata": {},
          "execution_count": 1
        }
      ]
    },
    {
      "cell_type": "code",
      "source": [
        "def bubble_sort(L):\n",
        "  for i in range(len(L)):\n",
        "    for j in range(len(L) - i - 1):\n",
        "      if L[i] > L[j]:\n",
        "        L[i], L[j] = L[j], L[i]\n",
        "\n",
        "  return L"
      ],
      "metadata": {
        "id": "RrmMs92_hZTd"
      },
      "execution_count": null,
      "outputs": []
    },
    {
      "cell_type": "markdown",
      "source": [],
      "metadata": {
        "id": "297k5x99vMVK"
      }
    },
    {
      "cell_type": "code",
      "source": [
        "def binary_search(arr, target):\n",
        "  low, high = 0, len(arr) - 1\n",
        "  while low <= high:\n",
        "    mid = (low + high) // 2\n",
        "    if arr[mid] == target:\n",
        "      return arr[mid]\n",
        "    elif arr[mid] < target:\n",
        "      low = mid + 1\n",
        "    else:\n",
        "      low = high - 1\n",
        "  return -1\n",
        "\n",
        "%timeit binary_search([1,2,3,4,5], 5)"
      ],
      "metadata": {
        "colab": {
          "base_uri": "https://localhost:8080/"
        },
        "id": "dnwcGVMijdqK",
        "outputId": "7ca1a900-0b35-4d8c-a1e5-43d9e77754e6"
      },
      "execution_count": null,
      "outputs": [
        {
          "output_type": "stream",
          "name": "stdout",
          "text": [
            "1.04 µs ± 259 ns per loop (mean ± std. dev. of 7 runs, 1000000 loops each)\n"
          ]
        }
      ]
    },
    {
      "cell_type": "code",
      "source": [
        "def quickSort(arr):\n",
        "  if len(arr) < 2:\n",
        "    return arr\n",
        "  else:\n",
        "    low, equal, high = [], [], []\n",
        "\n",
        "    pivot = arr[len(arr) // 2]\n",
        "\n",
        "    for element in arr:\n",
        "      if element < pivot:\n",
        "        low.append(element)\n",
        "      elif element > pivot:\n",
        "        high.append(element)\n",
        "      else:\n",
        "        equal.append(element)\n",
        "\n",
        "    return quickSort(low) + equal + quickSort(high)\n",
        "\n",
        "quickSort([8,2,6,4,5])"
      ],
      "metadata": {
        "colab": {
          "base_uri": "https://localhost:8080/"
        },
        "id": "HWunnNQl2r_l",
        "outputId": "82584775-c827-4894-e585-3208497df958"
      },
      "execution_count": null,
      "outputs": [
        {
          "output_type": "execute_result",
          "data": {
            "text/plain": [
              "[2, 4, 5, 6, 8]"
            ]
          },
          "metadata": {},
          "execution_count": 3
        }
      ]
    },
    {
      "cell_type": "code",
      "source": [
        "def f(x,y):\n",
        "  try:\n",
        "    z = x + y\n",
        "    w = x / y\n",
        "    print(z, w)\n",
        "  except ZeroDivisionError:\n",
        "    print('Division by zero not allowed')\n",
        "  except TypeError:\n",
        "    print('Imcompatible types')\n",
        "  except:\n",
        "    print('Unknown errors')\n",
        "\n",
        "f('1', 3)"
      ],
      "metadata": {
        "colab": {
          "base_uri": "https://localhost:8080/"
        },
        "id": "8o6rLoz8eSDR",
        "outputId": "3fa25544-7b64-46a9-a9de-634f6e229b3f"
      },
      "execution_count": null,
      "outputs": [
        {
          "output_type": "stream",
          "name": "stdout",
          "text": [
            "Imcompatible types\n"
          ]
        }
      ]
    },
    {
      "cell_type": "code",
      "source": [
        "def getValues(n):\n",
        "  L = []\n",
        "  for i in range(n):\n",
        "    weight = float(input('Enter weight: '))\n",
        "    L.append(weight)\n",
        "  return L\n",
        "\n",
        "def calcAverage(alist):\n",
        "  try:\n",
        "    print(f'The average weight is: {sum(alist[2:]) / len(alist[2:])}')\n",
        "  except ZeroDivisionError:\n",
        "    print('List alist is empty or has a length less than 2')\n",
        "  except:\n",
        "    print('Unknown error')\n",
        "\n",
        "  if __name__ == '__main__':\n",
        "    try:\n",
        "      n = int(input('Enter size of list: '))\n",
        "      alist = getValues(n)\n",
        "      calcAverage(alist)\n",
        "    except ValueError:\n",
        "      print('Cannot be casted as int()')"
      ],
      "metadata": {
        "id": "mKj92g_pjiOq"
      },
      "execution_count": null,
      "outputs": []
    },
    {
      "cell_type": "code",
      "source": [
        "class Car:\n",
        "  def __init__(self, n_doors, allwd, make, year, hp):\n",
        "    self.n_doors = n_doors\n",
        "    self.allwd = allwd\n",
        "    self.make = make\n",
        "    self.year = year\n",
        "    self.hp = hp\n",
        "    self.n_wheels = 4\n",
        "    self.engine_running = False\n",
        "    self.current_speed = 0\n",
        "\n",
        "  def __str__(self):\n",
        "    return (f'Make: {self.make}\\nYear: {self.year}')\n",
        "\n",
        "  def start_engine(self):\n",
        "    self.engine_running = True\n",
        "    print('Engine started.')\n",
        "\n",
        "  def stop_engine(self):\n",
        "    self.engine_running = False\n",
        "\n",
        "  def accelerate(self, newspeed):\n",
        "    if self.engine_running == True:\n",
        "      self.current_speed += newspeed\n",
        "      print(f'Current speed: {self.current_speed} m/h.')\n",
        "    else:\n",
        "      print('Start engine first.')\n",
        "\n",
        "  def brake(self, decrease_speed):\n",
        "    self.current_speed -= max(0, self.current_speed - decrease_speed)\n",
        "    print(f'Current speed is {self.current_speed}')"
      ],
      "metadata": {
        "id": "T1c6N0ITjV7C"
      },
      "execution_count": 13,
      "outputs": []
    },
    {
      "cell_type": "code",
      "source": [
        "c = Car(4, True, 'Ford', 2020, 500)\n"
      ],
      "metadata": {
        "id": "g8XzfQh7mWlK"
      },
      "execution_count": 8,
      "outputs": []
    },
    {
      "cell_type": "code",
      "source": [
        "c.start_engine()\n",
        "c.engine_running"
      ],
      "metadata": {
        "colab": {
          "base_uri": "https://localhost:8080/"
        },
        "id": "YEDJQDrQlkyP",
        "outputId": "22e7428d-9ab9-4e35-83ed-cdad70207d83"
      },
      "execution_count": 9,
      "outputs": [
        {
          "output_type": "stream",
          "name": "stdout",
          "text": [
            "Engine started.\n"
          ]
        },
        {
          "output_type": "execute_result",
          "data": {
            "text/plain": [
              "True"
            ]
          },
          "metadata": {},
          "execution_count": 9
        }
      ]
    },
    {
      "cell_type": "code",
      "source": [
        "c.current_speed"
      ],
      "metadata": {
        "colab": {
          "base_uri": "https://localhost:8080/"
        },
        "id": "YNwMGaaSmgLl",
        "outputId": "2f3b52d4-7c7e-4af9-fbb3-4a0f700f421f"
      },
      "execution_count": 10,
      "outputs": [
        {
          "output_type": "execute_result",
          "data": {
            "text/plain": [
              "0"
            ]
          },
          "metadata": {},
          "execution_count": 10
        }
      ]
    },
    {
      "cell_type": "code",
      "source": [
        "c.start_engine()\n",
        "c.accelerate(15)"
      ],
      "metadata": {
        "colab": {
          "base_uri": "https://localhost:8080/"
        },
        "id": "tqCw77aOmiO5",
        "outputId": "e78a3445-0106-4c3c-d9e8-c303e7ffcf24"
      },
      "execution_count": 11,
      "outputs": [
        {
          "output_type": "stream",
          "name": "stdout",
          "text": [
            "Engine started.\n",
            "Current speed: 15 m/h.\n"
          ]
        }
      ]
    },
    {
      "cell_type": "code",
      "source": [
        "c.brake(20)"
      ],
      "metadata": {
        "colab": {
          "base_uri": "https://localhost:8080/"
        },
        "id": "oHOoNkjMmmXL",
        "outputId": "637fbb8e-eeb5-412c-a563-2328262741cf"
      },
      "execution_count": 12,
      "outputs": [
        {
          "output_type": "stream",
          "name": "stdout",
          "text": [
            "Current speed is 15\n"
          ]
        }
      ]
    }
  ]
}